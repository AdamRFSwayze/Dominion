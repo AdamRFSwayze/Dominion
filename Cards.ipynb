{
 "cells": [
  {
   "cell_type": "code",
   "execution_count": 6,
   "metadata": {},
   "outputs": [],
   "source": [
    "class Card():\n",
    "    def __init__(self, name, cardType, effect, startingNumber, cost):\n",
    "        self.cardType = cardType \n",
    "        self.name = name\n",
    "        self.effect = effect\n",
    "        startingNumber = startingNumber \n",
    "        self.cost = cost\n",
    "    "
   ]
  },
  {
   "cell_type": "code",
   "execution_count": 7,
   "metadata": {},
   "outputs": [],
   "source": [
    "village = Card(\n",
    "    name = 'Village', \n",
    "    cardType='Action',\n",
    "    effect = [\n",
    "        ('usCards',1),\n",
    "        ('lusActions',2)\n",
    "    ],\n",
    "    startingNumber = 10,\n",
    "    cost = 3\n",
    ")"
   ]
  },
  {
   "cell_type": "code",
   "execution_count": 8,
   "metadata": {},
   "outputs": [],
   "source": [
    "#bandit = Card(\n",
    "#    name = 'bandit',\n",
    "#    cardType = ['Attack', 'Action'],\n",
    "#    effects = [\n",
    "#        (gainCard, [1, 'Gold'])\n",
    "#    ])\n"
   ]
  },
  {
   "cell_type": "code",
   "execution_count": null,
   "metadata": {},
   "outputs": [],
   "source": []
  }
 ],
 "metadata": {
  "kernelspec": {
   "display_name": "Python 3",
   "language": "python",
   "name": "python3"
  },
  "language_info": {
   "codemirror_mode": {
    "name": "ipython",
    "version": 3
   },
   "file_extension": ".py",
   "mimetype": "text/x-python",
   "name": "python",
   "nbconvert_exporter": "python",
   "pygments_lexer": "ipython3",
   "version": "3.6.4"
  }
 },
 "nbformat": 4,
 "nbformat_minor": 2
}
