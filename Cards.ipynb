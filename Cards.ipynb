{
 "cells": [
  {
   "cell_type": "code",
   "execution_count": 1,
   "metadata": {},
   "outputs": [],
   "source": [
    "class Card():\n",
    "    def __init__(self, id, name, cardType, effect, startingNumber, cost):\n",
    "        self.id = cardId\n",
    "        self.cardType = cardType \n",
    "        self.name = name\n",
    "        self.effect = effect\n",
    "        startingNumber = startingNumber \n",
    "        self.cost = cost\n",
    "    \n",
    "    def __str__(self):\n",
    "        return self.name\n",
    "    \n",
    "    \n",
    "    \n",
    "    "
   ]
  },
  {
   "cell_type": "code",
   "execution_count": 51,
   "metadata": {},
   "outputs": [],
   "source": [
    "cardList = [\n",
    "    'copper',\n",
    "    'silver',\n",
    "    'gold',\n",
    "    'estate',\n",
    "    'duchy',\n",
    "    'province'\n",
    "]\n",
    "def createCardDictionary(cardList):\n",
    "    cardDictionary = {}\n",
    "    temp = 100\n",
    "    for card in cardList:\n",
    "        cardDictionary[card] = temp\n",
    "        temp += 1\n",
    "    return cardDictionary\n",
    "\n",
    "cardDictionary = createCardDictionary(cardList)"
   ]
  },
  {
   "cell_type": "code",
   "execution_count": 73,
   "metadata": {},
   "outputs": [],
   "source": [
    "cardsInUse = {}\n",
    "def generateCardId(cardName):\n",
    "    if cardName in cardsInUse.values():\n",
    "        cardsInUse[str(int(max(cardsInUse.keys())) + 1)] = cardName\n",
    "    else: \n",
    "        cardsInUse[str(cardDictionary[cardName]) + '01'] = cardName \n",
    "        "
   ]
  },
  {
   "cell_type": "code",
   "execution_count": 10,
   "metadata": {},
   "outputs": [],
   "source": [
    "def plusMoney(value):\n",
    "    BoardState.turnState.plusMoney(value)"
   ]
  },
  {
   "cell_type": "code",
   "execution_count": 69,
   "metadata": {},
   "outputs": [],
   "source": [
    "\n",
    "generateCardId('duchy')"
   ]
  },
  {
   "cell_type": "code",
   "execution_count": 7,
   "metadata": {},
   "outputs": [],
   "source": [
    "village = Card(\n",
    "    name = 'Village', \n",
    "    cardType='Action',\n",
    "    effect = [\n",
    "        ('usCards',1),\n",
    "        ('lusActions',2)\n",
    "    ],\n",
    "    startingNumber = 10,\n",
    "    cost = 3\n",
    ")"
   ]
  },
  {
   "cell_type": "code",
   "execution_count": 8,
   "metadata": {},
   "outputs": [],
   "source": [
    "#bandit = Card(\n",
    "#    name = 'bandit',\n",
    "#    cardType = ['Attack', 'Action'],\n",
    "#    effects = [\n",
    "#        (gainCard, [1, 'Gold'])\n",
    "#    ])\n"
   ]
  },
  {
   "cell_type": "code",
   "execution_count": 8,
   "metadata": {},
   "outputs": [],
   "source": [
    "duchy = Card(\n",
    "    name = 'duchy',\n",
    "    cardType = 'Victory',\n",
    "    effect = None,\n",
    "    startingNumber = 8,\n",
    "    cost = 5\n",
    ")"
   ]
  },
  {
   "cell_type": "code",
   "execution_count": 72,
   "metadata": {},
   "outputs": [],
   "source": [
    "copper = Card(\n",
    "    name = 'copper',\n",
    "    cardType = 'Treasure',\n",
    "    effect = [\n",
    "        (plusMoney, 1)\n",
    "    ],\n",
    "    startingNumber = 70,\n",
    "    cost = 0\n",
    ")"
   ]
  },
  {
   "cell_type": "code",
   "execution_count": null,
   "metadata": {},
   "outputs": [],
   "source": []
  },
  {
   "cell_type": "code",
   "execution_count": null,
   "metadata": {},
   "outputs": [],
   "source": []
  },
  {
   "cell_type": "code",
   "execution_count": null,
   "metadata": {},
   "outputs": [],
   "source": []
  },
  {
   "cell_type": "code",
   "execution_count": null,
   "metadata": {},
   "outputs": [],
   "source": []
  },
  {
   "cell_type": "code",
   "execution_count": null,
   "metadata": {},
   "outputs": [],
   "source": []
  },
  {
   "cell_type": "code",
   "execution_count": null,
   "metadata": {},
   "outputs": [],
   "source": []
  }
 ],
 "metadata": {
  "kernelspec": {
   "display_name": "Python 3",
   "language": "python",
   "name": "python3"
  },
  "language_info": {
   "codemirror_mode": {
    "name": "ipython",
    "version": 3
   },
   "file_extension": ".py",
   "mimetype": "text/x-python",
   "name": "python",
   "nbconvert_exporter": "python",
   "pygments_lexer": "ipython3",
   "version": "3.6.4"
  }
 },
 "nbformat": 4,
 "nbformat_minor": 2
}
