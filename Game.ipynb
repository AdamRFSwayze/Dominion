{
 "cells": [
  {
   "cell_type": "code",
   "execution_count": 1,
   "metadata": {
    "ExecuteTime": {
     "end_time": "2018-10-17T14:08:25.680361Z",
     "start_time": "2018-10-17T14:08:25.675495Z"
    }
   },
   "outputs": [],
   "source": [
    "from setUp import *\n",
    "import random"
   ]
  },
  {
   "cell_type": "code",
   "execution_count": 2,
   "metadata": {
    "ExecuteTime": {
     "end_time": "2018-10-17T14:08:57.659565Z",
     "start_time": "2018-10-17T14:08:57.649363Z"
    }
   },
   "outputs": [],
   "source": [
    "def initiateBoardState():\n",
    "    newBoard = BoardState(\n",
    "        players = ['Joe', 'LordRattington'],\n",
    "        startingCards = ['estate']*3 + ['copper']*7,\n",
    "        #hands = random.sample(startingCards, 5),\n",
    "        supply = [],\n",
    "        trash = [],\n",
    "        turnState = [],\n",
    "        cardList = [\n",
    "            'copper',\n",
    "            'silver',\n",
    "            'gold',\n",
    "            'estate',\n",
    "            'duchy',\n",
    "            'province'\n",
    "        ]\n",
    "    )\n",
    "    return newBoard"
   ]
  },
  {
   "cell_type": "code",
   "execution_count": 3,
   "metadata": {
    "ExecuteTime": {
     "end_time": "2018-10-17T14:09:29.107276Z",
     "start_time": "2018-10-17T14:09:29.104173Z"
    }
   },
   "outputs": [],
   "source": [
    "myBoard = initiateBoardState()"
   ]
  },
  {
   "cell_type": "code",
   "execution_count": 4,
   "metadata": {
    "ExecuteTime": {
     "end_time": "2018-10-17T14:09:30.141317Z",
     "start_time": "2018-10-17T14:09:30.128269Z"
    }
   },
   "outputs": [
    {
     "data": {
      "text/plain": [
       "'10320'"
      ]
     },
     "execution_count": 4,
     "metadata": {},
     "output_type": "execute_result"
    }
   ],
   "source": [
    "myBoard.generateCardId('copper')"
   ]
  },
  {
   "cell_type": "code",
   "execution_count": 5,
   "metadata": {
    "ExecuteTime": {
     "end_time": "2018-10-17T14:09:34.948532Z",
     "start_time": "2018-10-17T14:09:34.943709Z"
    }
   },
   "outputs": [
    {
     "data": {
      "text/plain": [
       "{'10001': 'copper',\n",
       " '10301': 'estate',\n",
       " '10302': 'estate',\n",
       " '10303': 'estate',\n",
       " '10304': 'copper',\n",
       " '10305': 'copper',\n",
       " '10306': 'copper',\n",
       " '10307': 'copper',\n",
       " '10308': 'copper',\n",
       " '10309': 'copper',\n",
       " '10310': 'estate',\n",
       " '10311': 'estate',\n",
       " '10312': 'estate',\n",
       " '10313': 'copper',\n",
       " '10314': 'copper',\n",
       " '10315': 'copper',\n",
       " '10316': 'copper',\n",
       " '10317': 'copper',\n",
       " '10318': 'copper',\n",
       " '10319': 'copper',\n",
       " '10320': 'copper'}"
      ]
     },
     "execution_count": 5,
     "metadata": {},
     "output_type": "execute_result"
    }
   ],
   "source": [
    "myBoard.cardsInUse\n",
    "            "
   ]
  },
  {
   "cell_type": "code",
   "execution_count": 6,
   "metadata": {
    "ExecuteTime": {
     "end_time": "2018-10-16T21:44:40.048830Z",
     "start_time": "2018-10-16T21:44:40.044786Z"
    }
   },
   "outputs": [
    {
     "data": {
      "text/plain": [
       "'10501'"
      ]
     },
     "execution_count": 6,
     "metadata": {},
     "output_type": "execute_result"
    }
   ],
   "source": [
    "myBoard.generateCardId('province')"
   ]
  },
  {
   "cell_type": "code",
   "execution_count": 6,
   "metadata": {
    "ExecuteTime": {
     "end_time": "2018-10-17T14:09:41.973374Z",
     "start_time": "2018-10-17T14:09:41.969246Z"
    }
   },
   "outputs": [
    {
     "data": {
      "text/plain": [
       "{'Joe': ['10301', '10302', '10001', '10304', '10306'],\n",
       " 'LordRattington': ['10310', '10312', '10313', '10314', '10319']}"
      ]
     },
     "execution_count": 6,
     "metadata": {},
     "output_type": "execute_result"
    }
   ],
   "source": [
    "myBoard.decks"
   ]
  },
  {
   "cell_type": "code",
   "execution_count": 8,
   "metadata": {
    "ExecuteTime": {
     "end_time": "2018-10-16T21:50:34.308521Z",
     "start_time": "2018-10-16T21:50:34.304148Z"
    }
   },
   "outputs": [
    {
     "data": {
      "text/plain": [
       "{'Joe': ['10301', '10001', '10308', '10307', '10303'],\n",
       " 'LordRattington': ['10313', '10310', '10311', '10317', '10312']}"
      ]
     },
     "execution_count": 8,
     "metadata": {},
     "output_type": "execute_result"
    }
   ],
   "source": [
    "myBoard.hands"
   ]
  },
  {
   "cell_type": "code",
   "execution_count": 11,
   "metadata": {},
   "outputs": [],
   "source": [
    "\n"
   ]
  },
  {
   "cell_type": "code",
   "execution_count": 7,
   "metadata": {
    "ExecuteTime": {
     "end_time": "2018-10-17T14:10:42.337218Z",
     "start_time": "2018-10-17T14:10:42.334269Z"
    }
   },
   "outputs": [],
   "source": [
    "myBoard.moveCard('10302', 'Joe', 'decks', 'trash')"
   ]
  },
  {
   "cell_type": "code",
   "execution_count": 8,
   "metadata": {
    "ExecuteTime": {
     "end_time": "2018-10-17T14:10:46.098566Z",
     "start_time": "2018-10-17T14:10:46.094709Z"
    }
   },
   "outputs": [
    {
     "data": {
      "text/plain": [
       "{'Joe': ['10301', '10001', '10304', '10306'],\n",
       " 'LordRattington': ['10310', '10312', '10313', '10314', '10319']}"
      ]
     },
     "execution_count": 8,
     "metadata": {},
     "output_type": "execute_result"
    }
   ],
   "source": [
    "myBoard.decks"
   ]
  },
  {
   "cell_type": "code",
   "execution_count": 9,
   "metadata": {
    "ExecuteTime": {
     "end_time": "2018-10-17T14:10:56.929589Z",
     "start_time": "2018-10-17T14:10:56.925795Z"
    }
   },
   "outputs": [
    {
     "data": {
      "text/plain": [
       "['10302']"
      ]
     },
     "execution_count": 9,
     "metadata": {},
     "output_type": "execute_result"
    }
   ],
   "source": [
    "myBoard.trash"
   ]
  },
  {
   "cell_type": "code",
   "execution_count": null,
   "metadata": {},
   "outputs": [],
   "source": []
  }
 ],
 "metadata": {
  "kernelspec": {
   "display_name": "Python 3",
   "language": "python",
   "name": "python3"
  },
  "language_info": {
   "codemirror_mode": {
    "name": "ipython",
    "version": 3
   },
   "file_extension": ".py",
   "mimetype": "text/x-python",
   "name": "python",
   "nbconvert_exporter": "python",
   "pygments_lexer": "ipython3",
   "version": "3.6.1"
  }
 },
 "nbformat": 4,
 "nbformat_minor": 2
}
