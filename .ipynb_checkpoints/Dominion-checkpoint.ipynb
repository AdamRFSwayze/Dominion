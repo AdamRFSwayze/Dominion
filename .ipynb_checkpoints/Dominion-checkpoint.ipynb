{
 "cells": [
  {
   "cell_type": "code",
   "execution_count": 10,
   "metadata": {},
   "outputs": [],
   "source": [
    "class Card():\n",
    "    def __init__(self, name, cardType, effect, startingNumber):\n",
    "        self.cardType = cardType \n",
    "        self.name = name\n",
    "        self.effect = effect\n",
    "        startingNumber = startingNumber \n",
    "        self.cost = cost\n",
    "    \n",
    "        "
   ]
  },
  {
   "cell_type": "code",
   "execution_count": 53,
   "metadata": {},
   "outputs": [],
   "source": [
    "class BoardState():\n",
    "    def __init__(self, hands, decks, discardPiles, supply, trash, turnState):\n",
    "        self.hands = hands\n",
    "        self.discardPiles = discardPiles\n",
    "        self.decks = decks\n",
    "        #tuples such as (CARDS, # in supply)\n",
    "        self.supply = supply\n",
    "        self.trash = trash\n",
    "        self.turnState = turnState\n",
    "    def moveCard(cardOrigin, cardDestination):\n",
    "        #card origin must be a tuple (PILE, ORDER IN PILE)"
   ]
  },
  {
   "cell_type": "code",
   "execution_count": 54,
   "metadata": {},
   "outputs": [],
   "source": [
    "def gainCard(cardName, locationGainedTo):\n",
    "    if supply[cardName] > 0:\n",
    "        if locationGainedTo == 'hand':\n",
    "            baordState[hands[turnState[player]]] += [cardName]\n",
    "        elif locationGainedTo == 'discardPile':\n",
    "            boardState[discardPile[turnState[player]]] += [cardName]\n",
    "        supply[cardName] -= 1\n",
    "    else: \n",
    "        return 'No ' + cardName + ' in supply!'\n",
    "    return supply, hand"
   ]
  },
  {
   "cell_type": "code",
   "execution_count": null,
   "metadata": {},
   "outputs": [],
   "source": []
  },
  {
   "cell_type": "code",
   "execution_count": 57,
   "metadata": {},
   "outputs": [],
   "source": []
  },
  {
   "cell_type": "code",
   "execution_count": 48,
   "metadata": {},
   "outputs": [],
   "source": [
    "exampleBoardState = BoardState(\n",
    "    hands = {\n",
    "        'Joe' : ['copper','copper', 'copper', 'copper', 'copper' ],\n",
    "        'Adam' : ['copper', 'estate', 'estate', 'estate', 'estate']\n",
    "    }, \n",
    "    supply = {\n",
    "        'village' : 5,\n",
    "        'bandit' : 3\n",
    "    },\n",
    "    decks = {\n",
    "        'Joe' : ['estate', 'copper', 'estate', 'copper', 'estate'],\n",
    "        'Adam' : ['chapel']\n",
    "    },\n",
    "    discardPiles = {\n",
    "        'Joe' : [],\n",
    "        'Adam' : []\n",
    "    },\n",
    "    trash = [],\n",
    "    turnState = {\n",
    "        'player' : 'Joe',\n",
    "        'actions' : 1,\n",
    "        'buys' : 1,\n",
    "        'money' : 0,\n",
    "        'turnPhase' : 'action'\n",
    "    }\n",
    "    \n",
    ")"
   ]
  },
  {
   "cell_type": "code",
   "execution_count": 20,
   "metadata": {},
   "outputs": [
    {
     "ename": "SyntaxError",
     "evalue": "invalid syntax (<ipython-input-20-c82444421244>, line 2)",
     "output_type": "error",
     "traceback": [
      "\u001b[0;36m  File \u001b[0;32m\"<ipython-input-20-c82444421244>\"\u001b[0;36m, line \u001b[0;32m2\u001b[0m\n\u001b[0;31m    player =  'Joe',\u001b[0m\n\u001b[0m           ^\u001b[0m\n\u001b[0;31mSyntaxError\u001b[0m\u001b[0;31m:\u001b[0m invalid syntax\n"
     ]
    }
   ],
   "source": [
    "exampleTurnState = {\n",
    "    player =  'Joe', \n",
    "    actions = 1,\n",
    "    buys = 1, \n",
    "    money = 0, \n",
    "    turnPhase = 'action'\n",
    "}"
   ]
  },
  {
   "cell_type": "code",
   "execution_count": 34,
   "metadata": {},
   "outputs": [],
   "source": [
    "class TurnState():\n",
    "    def __init__(self, player, actions, buys, money)"
   ]
  },
  {
   "cell_type": "code",
   "execution_count": 39,
   "metadata": {},
   "outputs": [
    {
     "data": {
      "text/plain": [
       "'No village in supply!'"
      ]
     },
     "execution_count": 39,
     "metadata": {},
     "output_type": "execute_result"
    }
   ],
   "source": [
    "gainCard('village', exampleSupply)"
   ]
  },
  {
   "cell_type": "code",
   "execution_count": null,
   "metadata": {},
   "outputs": [],
   "source": []
  },
  {
   "cell_type": "code",
   "execution_count": null,
   "metadata": {},
   "outputs": [],
   "source": []
  }
 ],
 "metadata": {
  "kernelspec": {
   "display_name": "Python 3",
   "language": "python",
   "name": "python3"
  },
  "language_info": {
   "codemirror_mode": {
    "name": "ipython",
    "version": 3
   },
   "file_extension": ".py",
   "mimetype": "text/x-python",
   "name": "python",
   "nbconvert_exporter": "python",
   "pygments_lexer": "ipython3",
   "version": "3.6.4"
  }
 },
 "nbformat": 4,
 "nbformat_minor": 2
}
