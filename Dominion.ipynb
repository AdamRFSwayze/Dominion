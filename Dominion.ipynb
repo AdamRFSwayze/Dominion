{
 "cells": [
  {
   "cell_type": "code",
   "execution_count": 1,
   "metadata": {
    "ExecuteTime": {
     "end_time": "2018-10-15T19:40:33.304745Z",
     "start_time": "2018-10-15T19:40:33.298411Z"
    }
   },
   "outputs": [],
   "source": [
    "import cards     \n",
    "import random"
   ]
  },
  {
   "cell_type": "code",
   "execution_count": 3,
   "metadata": {
    "ExecuteTime": {
     "end_time": "2018-10-15T19:46:54.795848Z",
     "start_time": "2018-10-15T19:46:54.772128Z"
    }
   },
   "outputs": [],
   "source": [
    "class BoardState():\n",
    "    def __init__(self, players,hands, decks, discardPiles, supply, trash, turnState, cardsInUse):\n",
    "        self.players = players\n",
    "        self.hands = hands\n",
    "        self.decks = decks\n",
    "        self.supply = supply\n",
    "        self.trash = trash\n",
    "        self.turnState = turnState\n",
    "        self.cardsInUse = cardsInUse\n",
    "        \n",
    "        \n",
    "        self.discardPiles = {player : [] for player in players}\n",
    "        startingSet = ['copper']*5 +['estate']*3\n",
    "        \n",
    "        \n",
    "        \n",
    "    def moveCard(cardOrigin, cardDestination):\n",
    "        #card origin must be a tuple (PILE, ORDER IN PILE)\n",
    "        pass"
   ]
  },
  {
   "cell_type": "code",
   "execution_count": 54,
   "metadata": {},
   "outputs": [],
   "source": [
    "def gainCard(cardName, locationGainedTo):\n",
    "    if supply[cardName] > 0:\n",
    "        if locationGainedTo == 'hand':\n",
    "            baordState[hands[turnState[player]]] += [cardName]\n",
    "        elif locationGainedTo == 'discardPile':\n",
    "            boardState[discardPile[turnState[player]]] += [cardName]\n",
    "        supply[cardName] -= 1\n",
    "    else: \n",
    "        return 'No ' + cardName + ' in supply!'\n",
    "    return supply, hand"
   ]
  },
  {
   "cell_type": "code",
   "execution_count": 18,
   "metadata": {},
   "outputs": [],
   "source": []
  },
  {
   "cell_type": "code",
   "execution_count": null,
   "metadata": {},
   "outputs": [],
   "source": []
  },
  {
   "cell_type": "code",
   "execution_count": 5,
   "metadata": {},
   "outputs": [],
   "source": []
  },
  {
   "cell_type": "code",
   "execution_count": 6,
   "metadata": {},
   "outputs": [
    {
     "data": {
      "text/plain": [
       "['copper', 'estate', 'estate', 'copper', 'estate']"
      ]
     },
     "execution_count": 6,
     "metadata": {},
     "output_type": "execute_result"
    }
   ],
   "source": [
    "random.sample(cards, 5)"
   ]
  },
  {
   "cell_type": "code",
   "execution_count": 24,
   "metadata": {},
   "outputs": [],
   "source": [
    "class TurnState():\n",
    "    def __init__(self, player, actions, buys, money, turnPhase):\n",
    "        self.player = player\n",
    "        self.actions = actions\n",
    "        self.buys = buys\n",
    "        self.money = money\n",
    "        self.turnPhase = turnPhase\n",
    "    def __str__(self):\n",
    "        return str(self.player, self.turnPhase)\n",
    "    \n",
    "    def plusMoney(self, incrementAmount):\n",
    "        self.money += incrementAmount\n",
    "        "
   ]
  },
  {
   "cell_type": "code",
   "execution_count": null,
   "metadata": {},
   "outputs": [],
   "source": []
  },
  {
   "cell_type": "code",
   "execution_count": null,
   "metadata": {},
   "outputs": [],
   "source": []
  },
  {
   "cell_type": "code",
   "execution_count": 27,
   "metadata": {},
   "outputs": [],
   "source": [
    "exampleBoardState = BoardState(\n",
    "    hands = {\n",
    "        'Joe' : ['copper','copper', 'copper', 'copper', 'copper' ],\n",
    "        'Adam' : ['copper', 'estate', 'estate', 'estate', 'estate']\n",
    "    }, \n",
    "    supply = {\n",
    "        'village' : 5,\n",
    "        'bandit' : 3\n",
    "    },\n",
    "    decks = {\n",
    "        'Joe' : ['estate', 'copper', 'estate', 'copper', 'estate'],\n",
    "        'Adam' : ['chapel']\n",
    "    },\n",
    "    discardPiles = {\n",
    "        'Joe' : [],\n",
    "        'Adam' : []\n",
    "    },\n",
    "    trash = [],\n",
    "    \n",
    "    turnState = TurnState(\n",
    "        player = 'Joe',\n",
    "        actions = 1,\n",
    "        buys = 1,\n",
    "        money = 0,\n",
    "        turnPhase = 'actions'\n",
    "    )\n",
    ")"
   ]
  },
  {
   "cell_type": "code",
   "execution_count": 19,
   "metadata": {},
   "outputs": [
    {
     "data": {
      "text/plain": [
       "<__main__.TurnState at 0x7f6c12fcb860>"
      ]
     },
     "execution_count": 19,
     "metadata": {},
     "output_type": "execute_result"
    }
   ],
   "source": [
    "exampleTurnState"
   ]
  },
  {
   "cell_type": "code",
   "execution_count": null,
   "metadata": {},
   "outputs": [],
   "source": []
  }
 ],
 "metadata": {
  "kernelspec": {
   "display_name": "Python 3",
   "language": "python",
   "name": "python3"
  },
  "language_info": {
   "codemirror_mode": {
    "name": "ipython",
    "version": 3
   },
   "file_extension": ".py",
   "mimetype": "text/x-python",
   "name": "python",
   "nbconvert_exporter": "python",
   "pygments_lexer": "ipython3",
   "version": "3.6.5"
  }
 },
 "nbformat": 4,
 "nbformat_minor": 2
}
